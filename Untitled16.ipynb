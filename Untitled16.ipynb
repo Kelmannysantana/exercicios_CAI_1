{
  "cells": [
    {
      "cell_type": "code",
      "execution_count": null,
      "metadata": {
        "id": "vqT9RvGPV_-z"
      },
      "outputs": [],
      "source": [
        "nota = int(input(\"Digite a nota entre Zero e Dez: \"))\n",
        "\n",
        "\n",
        "while nota > 10 or nota < 0:\n",
        "    nota = int(input(\"Digite a nota entre Zero e Dez: \"))\n",
        "print(f\"nota aprovada {nota}\")"
      ]
    },
    {
      "cell_type": "code",
      "execution_count": null,
      "metadata": {
        "id": "yjflMxkaWz4A"
      },
      "outputs": [],
      "source": [
        "soma = 0\n",
        "contador = 0\n",
        "valor = float(input(\"Digite o valor: \"))\n",
        "\n",
        "while contador < valor:\n",
        "  nota = float(input(\"Digite a nota: \"))\n",
        "  contador +=1\n",
        "  soma += nota\n",
        "\n",
        "print(f\"O valor da média e {soma / valor}\")"
      ]
    },
    {
      "cell_type": "code",
      "execution_count": null,
      "metadata": {
        "id": "VBhteV1Kc4s6"
      },
      "outputs": [],
      "source": [
        "usuario = int(input(\"Digite o usuario: \"))\n",
        "senha = int(input(\"Digite a senha: \"))\n",
        "\n",
        "while usuario == senha:\n",
        "  print(\"Digite novamente o usuario e senha:  \")\n",
        "  usuario = int(input(\"Digite o usuario: \"))\n",
        "  senha = int(input(\"Digite a senha: \"))\n",
        "\n",
        "\n",
        "print(\"Usuario e senha validos\")"
      ]
    },
    {
      "cell_type": "code",
      "execution_count": null,
      "metadata": {
        "id": "XHP6jOE2etJK"
      },
      "outputs": [],
      "source": [
        "salario_inicial = 1000\n",
        "aumento = 1.5 / 100\n",
        "ano_atual = 2024\n",
        "ano_inicial = 1995\n",
        "\n",
        "while ano_inicial != ano_atual:\n",
        "      ano_inicial +=1\n",
        "      salario_inicial += salario_inicial * aumento\n",
        "      aumento *= 2\n",
        "      print(f\"ano {ano_inicial} salario {salario_inicial}\")\n",
        "\n",
        "\n",
        "salario = float(input(\"Digite o salario inicial: \"))\n",
        "aumento = 1.5 / 100\n",
        "ano_atual = 2024\n",
        "ano_inicial = 1995\n",
        "\n",
        "while ano_inicial != ano_atual:\n",
        "      ano_inicial +=1\n",
        "      salario += salario * aumento\n",
        "      aumento *= 2\n",
        "      print(f\"ano {ano_inicial} salario {salario_inicial}\")"
      ]
    },
    {
      "cell_type": "code",
      "execution_count": null,
      "metadata": {
        "id": "iOEiXhl_v7w9"
      },
      "outputs": [],
      "source": [
        "\n",
        "nome = input(\"Digite o nome: \")\n",
        "while len(nome) <= 3:\n",
        "  print(\"Nome tem que ter mais de 3 caracteres: \")\n",
        "  nome = input(\"Digite o nome: \")\n",
        "\n",
        "idade = int(input(\"Digite a idade: \"))\n",
        "while  idade <0 or idade >150:\n",
        "  print(\"Idade invalida: \")\n",
        "  idade = int(input(\"Digite a idade: \"))\n",
        "\n",
        "salario = int(input(\"Digite o salario: \"))\n",
        "while salario < 0:\n",
        "  print(\"Salario invalido: \")\n",
        "  salario = int(input(\"Digite o salario: \"))\n",
        "\n",
        "sexo = input(\"Digite o sexo: \")\n",
        "while sexo != f and sexo != m:\n",
        "    print(\"Sexo invalido: \")\n",
        "    sexo = input(\"Digite o sexo: \")\n",
        "estado_civil = input(\"Digite o estado civil: \")\n",
        "s =\"s\"\n",
        "c = \"c\"\n",
        "v = \"v\"\n",
        "d = \"d\"\n",
        "while estado_civil != s and estado_civil != c and estado_civil != v and estado_civil != d :\n",
        "   print(\"Estado civil invalido: \")\n",
        "   estado_civil = input(\"Digite o estado civil: \")\n",
        "\n",
        "\n",
        "print(f\"Nome e {nome}\")\n",
        "print(f\"Idade e {idade}\")\n",
        "print(f\"Salario e {salario}\")\n",
        "print(f\"Sexo e {sexo}\")\n",
        "print(f\"Estado civil e {estado_civil}\")\n",
        "\n"
      ]
    },
    {
      "cell_type": "code",
      "source": [
        "populacao_a = 80000\n",
        "taxa_a = 0.03\n",
        "populacao_b = 200000\n",
        "taxa_b = 0.015\n",
        "anos = 0\n",
        "\n",
        "while populacao_a < populacao_b:\n",
        "   populacao_a *= (1 + taxa_a)\n",
        "   populacao_b *= (1 + taxa_b )\n",
        "   anos += 1\n",
        "print(\"numeros de anos para a populacao a ultrapassar a populacao b:\", anos)"
      ],
      "metadata": {
        "id": "QbCjeb7T2IoU"
      },
      "execution_count": null,
      "outputs": []
    },
    {
      "cell_type": "code",
      "source": [
        "fatorial =  1\n",
        "contador = 1\n",
        "numero = int(input(\"Digite um numero: \"))\n",
        "while contador <= numero:\n",
        "  fatorial *= contador\n",
        "  contador += 1\n",
        "\n",
        "\n",
        "print(f\"o fatoria de {numero} e {fatorial}\")"
      ],
      "metadata": {
        "id": "9h9BcZrTDPNq"
      },
      "execution_count": null,
      "outputs": []
    },
    {
      "cell_type": "code",
      "source": [
        "soma = 0\n",
        "quantia = 0\n",
        "numero = int(input(\"Digite um numero inteito (e o para sair): \"))\n",
        "\n",
        "while numero != 0:\n",
        "  numero = int(input(\"Digite um numero inteito (e o para sair): \"))\n",
        "  soma += numero\n",
        "  quantia += 1\n",
        "print(f\"A media e: {soma/quantia}\")\n"
      ],
      "metadata": {
        "id": "YtNFYes6Dr9T"
      },
      "execution_count": null,
      "outputs": []
    }
  ],
  "metadata": {
    "colab": {
      "provenance": []
    },
    "kernelspec": {
      "display_name": "Python 3",
      "name": "python3"
    },
    "language_info": {
      "name": "python"
    }
  },
  "nbformat": 4,
  "nbformat_minor": 0
}
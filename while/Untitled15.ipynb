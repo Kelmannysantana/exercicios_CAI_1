{
  "nbformat": 4,
  "nbformat_minor": 0,
  "metadata": {
    "colab": {
      "provenance": []
    },
    "kernelspec": {
      "name": "python3",
      "display_name": "Python 3"
    },
    "language_info": {
      "name": "python"
    }
  },
  "cells": [
    {
      "cell_type": "code",
      "execution_count": null,
      "metadata": {
        "id": "BUEjT84D-4S_"
      },
      "outputs": [],
      "source": [
        "nota = float(input(\"digite uma nota entre zero e dez: \"))\n",
        "while nota > 10 or nota < 0:\n",
        "   nota = float(input(\"digite um valor valido: \"))\n",
        "print(\"sucesso\")"
      ]
    },
    {
      "cell_type": "code",
      "source": [
        "usuario = int(input(\"Digite o seu usuario: \"))\n",
        "senha = int(input(\"Digite a senha: \"))\n",
        "while usuario == senha:\n",
        "  print(\"erro\")\n",
        "  usuario = int(input(\"Digite o seu usuario: \"))\n",
        "senha = int(input(\"Digite a senha: \"))\n",
        "\n",
        "\n",
        "\n"
      ],
      "metadata": {
        "id": "ZQA-XSRWC3vv"
      },
      "execution_count": null,
      "outputs": []
    },
    {
      "cell_type": "code",
      "source": [
        "numero = 1\n",
        "while numero <= 10 :\n",
        "  print(numero)\n",
        "  numero += 1"
      ],
      "metadata": {
        "id": "hF0aHqtZKm-k"
      },
      "execution_count": null,
      "outputs": []
    },
    {
      "cell_type": "code",
      "source": [
        "numero = 2\n",
        "while numero <= 20:\n",
        "  print(numero)\n",
        "  numero +=2"
      ],
      "metadata": {
        "id": "Azk7GzjfN5lt"
      },
      "execution_count": null,
      "outputs": []
    },
    {
      "cell_type": "code",
      "source": [
        "numero = int(input(\"Digite um numero: \"))\n",
        "contador = 1\n",
        "\n",
        "while contador <= numero :\n",
        " print(contador)\n",
        " contador +=1\n"
      ],
      "metadata": {
        "id": "JvWjU1HGTVwa"
      },
      "execution_count": null,
      "outputs": []
    },
    {
      "cell_type": "code",
      "source": [
        "numero = int(input(\"Digite um numero: \"))\n",
        "contador = 2\n",
        "\n",
        "while contador <= numero:\n",
        "  print(contador)\n",
        "  contador += 2"
      ],
      "metadata": {
        "id": "nxjMGxOGXnXf"
      },
      "execution_count": null,
      "outputs": []
    },
    {
      "cell_type": "code",
      "source": [
        "numero = int(input(\"por favor digite um numero: \"))\n",
        "contador = 1\n",
        "\n",
        "while contador <= 10:\n",
        "  resultado = numero * contador\n",
        "  print(f\"{numero} x {contador} = {resultado}\")\n",
        "  contador +=1\n",
        "\n",
        "\n",
        "\n"
      ],
      "metadata": {
        "id": "MqZTgE_cBg4S"
      },
      "execution_count": null,
      "outputs": []
    },
    {
      "cell_type": "code",
      "source": [
        "senha = 12\n",
        "coca = int(input(\"Digite a senha: \"))\n",
        "\n",
        "while senha != coca:\n",
        "  print(\"senha incorreta\")\n",
        "  coca = int(input(\"Digite a senha: \"))\n",
        "  print(\"senha correta\")\n",
        "\n"
      ],
      "metadata": {
        "id": "3oNzuV8bYUMS"
      },
      "execution_count": null,
      "outputs": []
    },
    {
      "cell_type": "code",
      "source": [
        "soma = 0\n",
        "contador = 0\n",
        "numero = int(input(\"Digite um numero: \"))\n",
        "\n",
        "while contador != numero:\n",
        " valor = int(input(\"Digite o valor: \"))\n",
        " soma += valor\n",
        " contador += 1\n",
        " media = soma / numero\n",
        "\n",
        "\n",
        "print(f\"o valor medio e {media}\")\n",
        "\n",
        "\n"
      ],
      "metadata": {
        "id": "hoeam2s-bE37"
      },
      "execution_count": null,
      "outputs": []
    },
    {
      "cell_type": "code",
      "source": [
        "soma = 0\n",
        "numero = int(input(\"Digite um numero: \"))\n",
        "\n",
        "while numero != 0:\n",
        "  soma += numero\n",
        "  numero = int(input(\"Digite um numero: \"))\n",
        "\n",
        "\n",
        "print(f\"A soma e {soma}\")\n",
        ""
      ],
      "metadata": {
        "id": "AEDScAcPgNkR"
      },
      "execution_count": null,
      "outputs": []
    },
    {
      "cell_type": "code",
      "source": [
        "numero_maior = 0\n",
        "numero = int(input(\"Digite um numero: \"))\n",
        "\n",
        "while numero >= 0 :\n",
        " numero = int(input(\"Digite um numero: \"))\n",
        " if numero > numero_maior:\n",
        "    numero_maior = numero\n",
        "print(f\"o maior numero e {numero_maior}\")"
      ],
      "metadata": {
        "colab": {
          "base_uri": "https://localhost:8080/"
        },
        "id": "StmpeuPAlS2N",
        "outputId": "6d5c2c0e-048c-4222-9b45-dba7bcfebf73"
      },
      "execution_count": 113,
      "outputs": [
        {
          "output_type": "stream",
          "name": "stdout",
          "text": [
            "Digite um numero: 12\n",
            "Digite um numero: 12\n",
            "Digite um numero: 3\n",
            "Digite um numero: -1\n",
            "o maior numero e 12\n"
          ]
        }
      ]
    }
  ]
}